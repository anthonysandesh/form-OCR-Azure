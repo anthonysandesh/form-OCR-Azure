{
 "cells": [
  {
   "cell_type": "code",
   "execution_count": 1,
   "id": "e53ad5e5",
   "metadata": {},
   "outputs": [],
   "source": [
    "import json"
   ]
  },
  {
   "cell_type": "code",
   "execution_count": 2,
   "id": "6bc498f8",
   "metadata": {},
   "outputs": [],
   "source": [
    "from azure.core.credentials import AzureKeyCredential\n",
    "from azure.ai.formrecognizer import DocumentAnalysisClient\n",
    "\n",
    "endpoint = \"https://ocr-ee365.cognitiveservices.azure.com/\"\n",
    "key = \"69560f077d394e1ead3a5b0c48926c72\"\n",
    "\n",
    "model_id = \"EE-365-OCR-JOURNAL\"\n",
    "formUrl = \"https://eagleeye365ocrstorage.blob.core.windows.net/journals/ap-cash-disbursements-week-ending-06-08-18-part-1.pdf\"\n",
    "\n",
    "document_analysis_client = DocumentAnalysisClient(\n",
    "    endpoint=endpoint, credential=AzureKeyCredential(key)\n",
    ")\n",
    "\n",
    "# Make sure your document's type is included in the list of document types the custom model can analyze\n",
    "poller = document_analysis_client.begin_analyze_document_from_url(model_id, formUrl)\n",
    "result = poller.result()"
   ]
  },
  {
   "cell_type": "code",
   "execution_count": 10,
   "id": "73bde8f7",
   "metadata": {},
   "outputs": [],
   "source": [
    "full_json=[]"
   ]
  },
  {
   "cell_type": "code",
   "execution_count": 12,
   "id": "4660a37e",
   "metadata": {},
   "outputs": [],
   "source": [
    "for idx, document in enumerate(result.documents):\n",
    "    json_array=[]\n",
    "    json_object={}\n",
    "    prev_json_object={}\n",
    "    main_json={}\n",
    "    main_json['document_num'] = idx + 1\n",
    "    main_json['confidence'] = document.confidence\n",
    "    main_json['model_name'] = result.model_id\n",
    "    for name, field in document.fields.items():\n",
    "        field_value = field.value if field.value else field.content\n",
    "        if(field.value_type != 'list'):\n",
    "            main_json[name] = field_value\n",
    "#             print(\"found field of name '{}' with value '{}'\\n\".format(name, field_value))\n",
    "        else:\n",
    "            for x in field_value:\n",
    "                json_object={}\n",
    "                for z in x.value:\n",
    "                    try:\n",
    "                        json_object[z] = x.value[z].value if x.value[z].value != None else prev_json_object[z]\n",
    "                    except:\n",
    "                        json_object[z] = x.value[z].value\n",
    "                prev_json_object = json_object\n",
    "                json_array.append(json_object)\n",
    "        main_json['entries'] = json_array\n",
    "full_json.append(main_json)\n"
   ]
  },
  {
   "cell_type": "code",
   "execution_count": 13,
   "id": "f00c5d53",
   "metadata": {},
   "outputs": [
    {
     "name": "stdout",
     "output_type": "stream",
     "text": [
      "[{'document_num': 1, 'confidence': 0.992, 'model_name': 'EE-365-OCR-JOURNAL', 'company': 'Cumberland County, NC', 'entries': [{'Check No': '43161', 'Chk Date': '6/6/2018', 'Type': 'EFT register -', 'Vendor': '4679', 'Name': 'WILLIAMS OFFICE', 'Voucher': '110043', 'Invoice': '91221', 'Inv Date': '5/17/2018', 'PO': None, 'Check Run': 'CB060618', 'Net': '$22.52'}, {'Check No': '43161', 'Chk Date': '6/6/2018', 'Type': 'has been generated', 'Vendor': '4679', 'Name': 'ENVIRONMENTS', 'Voucher': '110807', 'Invoice': '91940', 'Inv Date': '5/23/2018', 'PO': None, 'Check Run': 'CB060618', 'Net': '$67.75'}, {'Check No': '43161', 'Chk Date': '6/6/2018', 'Type': 'has been generated', 'Vendor': '4679', 'Name': 'ENVIRONMENTS', 'Voucher': '110981', 'Invoice': '92104', 'Inv Date': '5/21/2018', 'PO': None, 'Check Run': 'CB060618', 'Net': '$27.18'}, {'Check No': '43161', 'Chk Date': '6/6/2018', 'Type': 'has been generated', 'Vendor': '4679', 'Name': 'ENVIRONMENTS', 'Voucher': '109234', 'Invoice': '90441', 'Inv Date': '5/16/2018', 'PO': None, 'Check Run': 'CB060618', 'Net': '$28.61'}, {'Check No': '43161', 'Chk Date': '6/6/2018', 'Type': 'has been generated', 'Vendor': '4679', 'Name': 'ENVIRONMENTS', 'Voucher': '110915', 'Invoice': '92042', 'Inv Date': '5/23/2018', 'PO': None, 'Check Run': 'CB060618', 'Net': '$436.65'}, {'Check No': '43161', 'Chk Date': '6/6/2018', 'Type': 'has been generated', 'Vendor': '4679', 'Name': 'ENVIRONMENTS', 'Voucher': '110918', 'Invoice': '92044', 'Inv Date': '5/23/2018', 'PO': None, 'Check Run': 'CB060618', 'Net': '$177.92'}, {'Check No': '43161', 'Chk Date': '6/6/2018', 'Type': 'has been generated', 'Vendor': '4679', 'Name': 'ENVIRONMENTS', 'Voucher': '110919', 'Invoice': '92045', 'Inv Date': '5/23/2018', 'PO': None, 'Check Run': 'CB060618', 'Net': '$322.30'}, {'Check No': '43161', 'Chk Date': '6/6/2018', 'Type': 'has been generated', 'Vendor': '4679', 'Name': 'ENVIRONMENTS', 'Voucher': '108788', 'Invoice': '90115', 'Inv Date': '5/14/2018', 'PO': None, 'Check Run': 'CB060618', 'Net': '$384.57'}, {'Check No': '43161', 'Chk Date': '6/6/2018', 'Type': 'has been generated', 'Vendor': '4679', 'Name': 'ENVIRONMENTS', 'Voucher': '110206', 'Invoice': '91377', 'Inv Date': '5/17/2018', 'PO': '18000413', 'Check Run': 'CB060618', 'Net': '$50.50'}, {'Check No': '43161', 'Chk Date': '6/6/2018', 'Type': 'has been generated', 'Vendor': '4679', 'Name': 'ENVIRONMENTS', 'Voucher': '110872', 'Invoice': '92000', 'Inv Date': '5/23/2018', 'PO': '18000413', 'Check Run': 'CB060618', 'Net': '$542.53'}, {'Check No': '43161', 'Chk Date': '6/6/2018', 'Type': 'has been generated', 'Vendor': '4679', 'Name': 'ENVIRONMENTS', 'Voucher': '110872', 'Invoice': '92000', 'Inv Date': '5/23/2018', 'PO': 'Check 43161 Total:', 'Check Run': 'CB060618', 'Net': '$2,060.53'}, {'Check No': '43162', 'Chk Date': '6/6/2018', 'Type': 'EFT register -', 'Vendor': '6966', 'Name': 'AHLEY DAVIS', 'Voucher': '111037', 'Invoice': '92158', 'Inv Date': '5/29/2018', 'PO': 'Check 43161 Total:', 'Check Run': 'CB060618', 'Net': '$127.45'}, {'Check No': '43162', 'Chk Date': '6/6/2018', 'Type': 'has been generated', 'Vendor': '6966', 'Name': 'AHLEY DAVIS', 'Voucher': '111037', 'Invoice': '92158', 'Inv Date': '5/29/2018', 'PO': 'Check 43161 Total:', 'Check Run': '43162 Total:', 'Net': '$127.45'}, {'Check No': '43163', 'Chk Date': '6/6/2018', 'Type': 'EFT register -', 'Vendor': '4841', 'Name': 'AKUA P PEPRAH', 'Voucher': '111040', 'Invoice': '92161', 'Inv Date': '5/22/2018', 'PO': 'Check 43161 Total:', 'Check Run': 'CB060618', 'Net': '$91.50'}, {'Check No': '43163', 'Chk Date': '6/6/2018', 'Type': 'has been generated', 'Vendor': '4841', 'Name': 'AKUA P PEPRAH', 'Voucher': '111040', 'Invoice': '92161', 'Inv Date': '5/22/2018', 'PO': 'Check 43161 Total:', 'Check Run': '43163 Total:', 'Net': '$91.50'}, {'Check No': '43164', 'Chk Date': '6/6/2018', 'Type': 'EFT register -', 'Vendor': '4737', 'Name': 'ASHLEY D HUDSON', 'Voucher': '110959', 'Invoice': '92082', 'Inv Date': '5/31/2018', 'PO': 'Check 43161 Total:', 'Check Run': 'CB060618', 'Net': '$34.88'}, {'Check No': '43164', 'Chk Date': '6/6/2018', 'Type': 'has been generated', 'Vendor': '4737', 'Name': 'ASHLEY D HUDSON', 'Voucher': '110959', 'Invoice': '92082', 'Inv Date': '5/31/2018', 'PO': 'Check 43164 Total:', 'Check Run': 'CB060618', 'Net': '$34.88'}], 'entry': 'A/P Cash Disbursements Journal', 'page_no': '1', 'datetime': '9/30/2018 7:17:32 PM', 'cash_account': '001'}, {'document_num': 1, 'confidence': 0.992, 'model_name': 'EE-365-OCR-JOURNAL', 'company': 'Cumberland County, NC', 'entries': [{'Check No': '43161', 'Chk Date': '6/6/2018', 'Type': 'EFT register -', 'Vendor': '4679', 'Name': 'WILLIAMS OFFICE', 'Voucher': '110043', 'Invoice': '91221', 'Inv Date': '5/17/2018', 'PO': None, 'Check Run': 'CB060618', 'Net': '$22.52'}, {'Check No': '43161', 'Chk Date': '6/6/2018', 'Type': 'has been generated', 'Vendor': '4679', 'Name': 'ENVIRONMENTS', 'Voucher': '110807', 'Invoice': '91940', 'Inv Date': '5/23/2018', 'PO': None, 'Check Run': 'CB060618', 'Net': '$67.75'}, {'Check No': '43161', 'Chk Date': '6/6/2018', 'Type': 'has been generated', 'Vendor': '4679', 'Name': 'ENVIRONMENTS', 'Voucher': '110981', 'Invoice': '92104', 'Inv Date': '5/21/2018', 'PO': None, 'Check Run': 'CB060618', 'Net': '$27.18'}, {'Check No': '43161', 'Chk Date': '6/6/2018', 'Type': 'has been generated', 'Vendor': '4679', 'Name': 'ENVIRONMENTS', 'Voucher': '109234', 'Invoice': '90441', 'Inv Date': '5/16/2018', 'PO': None, 'Check Run': 'CB060618', 'Net': '$28.61'}, {'Check No': '43161', 'Chk Date': '6/6/2018', 'Type': 'has been generated', 'Vendor': '4679', 'Name': 'ENVIRONMENTS', 'Voucher': '110915', 'Invoice': '92042', 'Inv Date': '5/23/2018', 'PO': None, 'Check Run': 'CB060618', 'Net': '$436.65'}, {'Check No': '43161', 'Chk Date': '6/6/2018', 'Type': 'has been generated', 'Vendor': '4679', 'Name': 'ENVIRONMENTS', 'Voucher': '110918', 'Invoice': '92044', 'Inv Date': '5/23/2018', 'PO': None, 'Check Run': 'CB060618', 'Net': '$177.92'}, {'Check No': '43161', 'Chk Date': '6/6/2018', 'Type': 'has been generated', 'Vendor': '4679', 'Name': 'ENVIRONMENTS', 'Voucher': '110919', 'Invoice': '92045', 'Inv Date': '5/23/2018', 'PO': None, 'Check Run': 'CB060618', 'Net': '$322.30'}, {'Check No': '43161', 'Chk Date': '6/6/2018', 'Type': 'has been generated', 'Vendor': '4679', 'Name': 'ENVIRONMENTS', 'Voucher': '108788', 'Invoice': '90115', 'Inv Date': '5/14/2018', 'PO': None, 'Check Run': 'CB060618', 'Net': '$384.57'}, {'Check No': '43161', 'Chk Date': '6/6/2018', 'Type': 'has been generated', 'Vendor': '4679', 'Name': 'ENVIRONMENTS', 'Voucher': '110206', 'Invoice': '91377', 'Inv Date': '5/17/2018', 'PO': '18000413', 'Check Run': 'CB060618', 'Net': '$50.50'}, {'Check No': '43161', 'Chk Date': '6/6/2018', 'Type': 'has been generated', 'Vendor': '4679', 'Name': 'ENVIRONMENTS', 'Voucher': '110872', 'Invoice': '92000', 'Inv Date': '5/23/2018', 'PO': '18000413', 'Check Run': 'CB060618', 'Net': '$542.53'}, {'Check No': '43161', 'Chk Date': '6/6/2018', 'Type': 'has been generated', 'Vendor': '4679', 'Name': 'ENVIRONMENTS', 'Voucher': '110872', 'Invoice': '92000', 'Inv Date': '5/23/2018', 'PO': 'Check 43161 Total:', 'Check Run': 'CB060618', 'Net': '$2,060.53'}, {'Check No': '43162', 'Chk Date': '6/6/2018', 'Type': 'EFT register -', 'Vendor': '6966', 'Name': 'AHLEY DAVIS', 'Voucher': '111037', 'Invoice': '92158', 'Inv Date': '5/29/2018', 'PO': 'Check 43161 Total:', 'Check Run': 'CB060618', 'Net': '$127.45'}, {'Check No': '43162', 'Chk Date': '6/6/2018', 'Type': 'has been generated', 'Vendor': '6966', 'Name': 'AHLEY DAVIS', 'Voucher': '111037', 'Invoice': '92158', 'Inv Date': '5/29/2018', 'PO': 'Check 43161 Total:', 'Check Run': '43162 Total:', 'Net': '$127.45'}, {'Check No': '43163', 'Chk Date': '6/6/2018', 'Type': 'EFT register -', 'Vendor': '4841', 'Name': 'AKUA P PEPRAH', 'Voucher': '111040', 'Invoice': '92161', 'Inv Date': '5/22/2018', 'PO': 'Check 43161 Total:', 'Check Run': 'CB060618', 'Net': '$91.50'}, {'Check No': '43163', 'Chk Date': '6/6/2018', 'Type': 'has been generated', 'Vendor': '4841', 'Name': 'AKUA P PEPRAH', 'Voucher': '111040', 'Invoice': '92161', 'Inv Date': '5/22/2018', 'PO': 'Check 43161 Total:', 'Check Run': '43163 Total:', 'Net': '$91.50'}, {'Check No': '43164', 'Chk Date': '6/6/2018', 'Type': 'EFT register -', 'Vendor': '4737', 'Name': 'ASHLEY D HUDSON', 'Voucher': '110959', 'Invoice': '92082', 'Inv Date': '5/31/2018', 'PO': 'Check 43161 Total:', 'Check Run': 'CB060618', 'Net': '$34.88'}, {'Check No': '43164', 'Chk Date': '6/6/2018', 'Type': 'has been generated', 'Vendor': '4737', 'Name': 'ASHLEY D HUDSON', 'Voucher': '110959', 'Invoice': '92082', 'Inv Date': '5/31/2018', 'PO': 'Check 43164 Total:', 'Check Run': 'CB060618', 'Net': '$34.88'}], 'entry': 'A/P Cash Disbursements Journal', 'page_no': '1', 'datetime': '9/30/2018 7:17:32 PM', 'cash_account': '001'}]\n"
     ]
    }
   ],
   "source": [
    "print(full_json)"
   ]
  },
  {
   "cell_type": "code",
   "execution_count": null,
   "id": "e9f02816",
   "metadata": {},
   "outputs": [],
   "source": []
  }
 ],
 "metadata": {
  "kernelspec": {
   "display_name": "Python 3 (ipykernel)",
   "language": "python",
   "name": "python3"
  },
  "language_info": {
   "codemirror_mode": {
    "name": "ipython",
    "version": 3
   },
   "file_extension": ".py",
   "mimetype": "text/x-python",
   "name": "python",
   "nbconvert_exporter": "python",
   "pygments_lexer": "ipython3",
   "version": "3.9.13"
  }
 },
 "nbformat": 4,
 "nbformat_minor": 5
}
