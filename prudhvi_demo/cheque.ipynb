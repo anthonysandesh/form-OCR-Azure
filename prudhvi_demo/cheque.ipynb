{
 "cells": [
  {
   "cell_type": "code",
   "execution_count": 1,
   "id": "e53ad5e5",
   "metadata": {},
   "outputs": [],
   "source": [
    "import json"
   ]
  },
  {
   "cell_type": "code",
   "execution_count": 2,
   "id": "6bc498f8",
   "metadata": {},
   "outputs": [],
   "source": [
    "from azure.core.credentials import AzureKeyCredential\n",
    "from azure.ai.formrecognizer import DocumentAnalysisClient\n",
    "\n",
    "endpoint = \"https://ocr-ee365.cognitiveservices.azure.com/\"\n",
    "key = \"69560f077d394e1ead3a5b0c48926c72\"\n",
    "\n",
    "model_id = \"CHEQUE-OCR-4\"\n",
    "formUrl = \"https://eagleeye365ocrstorage.blob.core.windows.net/sourcefiles/cheque5.png\"\n",
    "\n",
    "document_analysis_client = DocumentAnalysisClient(\n",
    "    endpoint=endpoint, credential=AzureKeyCredential(key)\n",
    ")\n",
    "\n",
    "# Make sure your document's type is included in the list of document types the custom model can analyze\n",
    "poller = document_analysis_client.begin_analyze_document_from_url(model_id, formUrl)\n",
    "result = poller.result()"
   ]
  },
  {
   "cell_type": "code",
   "execution_count": 3,
   "id": "477039e6",
   "metadata": {},
   "outputs": [
    {
     "name": "stdout",
     "output_type": "stream",
     "text": [
      "AnalyzeResult(api_version=2022-08-31, model_id=CHEQUE-OCR-4, content=FLEET FIRST !!\n",
      "DEMO COMPANY INC 1 MAIN ST A CITY, A STATE, 12321\n",
      "PAY TO THE ORDER OF\n",
      "CUMBERLAND COUNTY GENERAL FUND\n",
      "INSERT Bank of 5th Street\n",
      "FOR\n",
      "฿: 012345678910\n",
      "012345678910\n",
      "881724\n",
      "06/06/2018\n",
      "$ 67,979.00\n",
      "DOLLARS\n",
      "Jane Doer\n",
      "881724, languages=[], pages=[DocumentPage(page_number=1, angle=None, width=858.0, height=374.0, unit=pixel, lines=[DocumentLine(content=FLEET, polygon=[Point(x=43.0, y=36.0), Point(x=100.0, y=35.0), Point(x=99.0, y=57.0), Point(x=42.0, y=57.0)], spans=[DocumentSpan(offset=0, length=5)]), DocumentLine(content=FIRST !!, polygon=[Point(x=42.0, y=66.0), Point(x=113.0, y=65.0), Point(x=113.0, y=85.0), Point(x=42.0, y=86.0)], spans=[DocumentSpan(offset=6, length=8)]), DocumentLine(content=DEMO COMPANY INC, polygon=[Point(x=130.0, y=42.0), Point(x=297.0, y=42.0), Point(x=297.0, y=59.0), Point(x=130.0, y=59.0)], spans=[DocumentSpan(offset=15, length=16)]), DocumentLine(content=1 MAIN ST, polygon=[Point(x=133.0, y=60.0), Point(x=211.0, y=60.0), Point(x=211.0, y=76.0), Point(x=133.0, y=76.0)], spans=[DocumentSpan(offset=32, length=9)]), DocumentLine(content=A CITY, A STATE, 12321, polygon=[Point(x=131.0, y=77.0), Point(x=312.0, y=76.0), Point(x=312.0, y=94.0), Point(x=131.0, y=95.0)], spans=[DocumentSpan(offset=42, length=22)]), DocumentLine(content=PAY, polygon=[Point(x=39.0, y=120.0), Point(x=73.0, y=120.0), Point(x=72.0, y=142.0), Point(x=39.0, y=142.0)], spans=[DocumentSpan(offset=65, length=3)]), DocumentLine(content=TO THE, polygon=[Point(x=40.0, y=142.0), Point(x=100.0, y=143.0), Point(x=100.0, y=159.0), Point(x=40.0, y=159.0)], spans=[DocumentSpan(offset=69, length=6)]), DocumentLine(content=ORDER OF, polygon=[Point(x=38.0, y=161.0), Point(x=126.0, y=161.0), Point(x=126.0, y=179.0), Point(x=38.0, y=179.0)], spans=[DocumentSpan(offset=76, length=8)]), DocumentLine(content=CUMBERLAND COUNTY GENERAL FUND, polygon=[Point(x=145.0, y=139.0), Point(x=491.0, y=140.0), Point(x=491.0, y=160.0), Point(x=145.0, y=159.0)], spans=[DocumentSpan(offset=85, length=30)]), DocumentLine(content=INSERT Bank of 5th Street, polygon=[Point(x=105.0, y=242.0), Point(x=332.0, y=241.0), Point(x=333.0, y=262.0), Point(x=105.0, y=264.0)], spans=[DocumentSpan(offset=116, length=25)]), DocumentLine(content=FOR, polygon=[Point(x=40.0, y=287.0), Point(x=77.0, y=287.0), Point(x=77.0, y=303.0), Point(x=41.0, y=303.0)], spans=[DocumentSpan(offset=142, length=3)]), DocumentLine(content=฿: 012345678910, polygon=[Point(x=48.0, y=315.0), Point(x=271.0, y=316.0), Point(x=271.0, y=339.0), Point(x=48.0, y=339.0)], spans=[DocumentSpan(offset=146, length=15)]), DocumentLine(content=012345678910, polygon=[Point(x=320.0, y=316.0), Point(x=482.0, y=316.0), Point(x=482.0, y=338.0), Point(x=320.0, y=338.0)], spans=[DocumentSpan(offset=162, length=12)]), DocumentLine(content=881724, polygon=[Point(x=746.0, y=43.0), Point(x=798.0, y=44.0), Point(x=798.0, y=59.0), Point(x=746.0, y=58.0)], spans=[DocumentSpan(offset=175, length=6)]), DocumentLine(content=06/06/2018, polygon=[Point(x=649.0, y=89.0), Point(x=753.0, y=89.0), Point(x=753.0, y=109.0), Point(x=649.0, y=110.0)], spans=[DocumentSpan(offset=182, length=10)]), DocumentLine(content=$, polygon=[Point(x=626.0, y=151.0), Point(x=647.0, y=151.0), Point(x=646.0, y=179.0), Point(x=624.0, y=179.0)], spans=[DocumentSpan(offset=193, length=1)]), DocumentLine(content=67,979.00, polygon=[Point(x=663.0, y=152.0), Point(x=754.0, y=152.0), Point(x=754.0, y=175.0), Point(x=663.0, y=175.0)], spans=[DocumentSpan(offset=195, length=9)]), DocumentLine(content=DOLLARS, polygon=[Point(x=644.0, y=211.0), Point(x=722.0, y=211.0), Point(x=722.0, y=227.0), Point(x=644.0, y=228.0)], spans=[DocumentSpan(offset=205, length=7)]), DocumentLine(content=Jane Doer, polygon=[Point(x=549.0, y=244.0), Point(x=762.0, y=235.0), Point(x=765.0, y=280.0), Point(x=552.0, y=291.0)], spans=[DocumentSpan(offset=213, length=9)]), DocumentLine(content=881724, polygon=[Point(x=518.0, y=315.0), Point(x=571.0, y=316.0), Point(x=571.0, y=331.0), Point(x=517.0, y=330.0)], spans=[DocumentSpan(offset=223, length=6)])], words=[DocumentWord(content=FLEET, polygon=[Point(x=42.0, y=35.0), Point(x=99.0, y=35.0), Point(x=99.0, y=56.0), Point(x=42.0, y=57.0)], span=DocumentSpan(offset=0, length=5), confidence=0.997), DocumentWord(content=FIRST, polygon=[Point(x=42.0, y=68.0), Point(x=92.0, y=67.0), Point(x=93.0, y=85.0), Point(x=42.0, y=85.0)], span=DocumentSpan(offset=6, length=5), confidence=0.997), DocumentWord(content=!!, polygon=[Point(x=96.0, y=67.0), Point(x=113.0, y=66.0), Point(x=113.0, y=86.0), Point(x=96.0, y=85.0)], span=DocumentSpan(offset=12, length=2), confidence=0.997), DocumentWord(content=DEMO, polygon=[Point(x=130.0, y=42.0), Point(x=176.0, y=43.0), Point(x=176.0, y=60.0), Point(x=131.0, y=59.0)], span=DocumentSpan(offset=15, length=4), confidence=0.997), DocumentWord(content=COMPANY, polygon=[Point(x=182.0, y=43.0), Point(x=262.0, y=43.0), Point(x=262.0, y=60.0), Point(x=182.0, y=60.0)], span=DocumentSpan(offset=20, length=7), confidence=0.996), DocumentWord(content=INC, polygon=[Point(x=266.0, y=43.0), Point(x=292.0, y=43.0), Point(x=292.0, y=60.0), Point(x=265.0, y=60.0)], span=DocumentSpan(offset=28, length=3), confidence=0.997), DocumentWord(content=1, polygon=[Point(x=133.0, y=61.0), Point(x=140.0, y=61.0), Point(x=140.0, y=77.0), Point(x=133.0, y=77.0)], span=DocumentSpan(offset=32, length=1), confidence=0.997), DocumentWord(content=MAIN, polygon=[Point(x=143.0, y=61.0), Point(x=181.0, y=60.0), Point(x=181.0, y=76.0), Point(x=143.0, y=77.0)], span=DocumentSpan(offset=34, length=4), confidence=0.989), DocumentWord(content=ST, polygon=[Point(x=188.0, y=60.0), Point(x=208.0, y=60.0), Point(x=208.0, y=76.0), Point(x=188.0, y=76.0)], span=DocumentSpan(offset=39, length=2), confidence=0.997), DocumentWord(content=A, polygon=[Point(x=132.0, y=78.0), Point(x=141.0, y=78.0), Point(x=141.0, y=95.0), Point(x=132.0, y=95.0)], span=DocumentSpan(offset=42, length=1), confidence=0.994), DocumentWord(content=CITY,, polygon=[Point(x=145.0, y=78.0), Point(x=186.0, y=78.0), Point(x=186.0, y=95.0), Point(x=145.0, y=95.0)], span=DocumentSpan(offset=44, length=5), confidence=0.995), DocumentWord(content=A, polygon=[Point(x=190.0, y=78.0), Point(x=200.0, y=78.0), Point(x=200.0, y=95.0), Point(x=190.0, y=95.0)], span=DocumentSpan(offset=50, length=1), confidence=0.998), DocumentWord(content=STATE,, polygon=[Point(x=205.0, y=78.0), Point(x=263.0, y=77.0), Point(x=263.0, y=95.0), Point(x=205.0, y=95.0)], span=DocumentSpan(offset=52, length=6), confidence=0.996), DocumentWord(content=12321, polygon=[Point(x=267.0, y=77.0), Point(x=311.0, y=77.0), Point(x=310.0, y=95.0), Point(x=266.0, y=95.0)], span=DocumentSpan(offset=59, length=5), confidence=0.997), DocumentWord(content=PAY, polygon=[Point(x=39.0, y=120.0), Point(x=72.0, y=120.0), Point(x=72.0, y=142.0), Point(x=39.0, y=142.0)], span=DocumentSpan(offset=65, length=3), confidence=0.994), DocumentWord(content=TO, polygon=[Point(x=41.0, y=143.0), Point(x=58.0, y=143.0), Point(x=58.0, y=159.0), Point(x=41.0, y=159.0)], span=DocumentSpan(offset=69, length=2), confidence=0.997), DocumentWord(content=THE, polygon=[Point(x=66.0, y=143.0), Point(x=96.0, y=143.0), Point(x=96.0, y=159.0), Point(x=66.0, y=159.0)], span=DocumentSpan(offset=72, length=3), confidence=0.998), DocumentWord(content=ORDER, polygon=[Point(x=39.0, y=162.0), Point(x=95.0, y=162.0), Point(x=95.0, y=179.0), Point(x=39.0, y=179.0)], span=DocumentSpan(offset=76, length=5), confidence=0.997), DocumentWord(content=OF, polygon=[Point(x=101.0, y=162.0), Point(x=124.0, y=162.0), Point(x=124.0, y=180.0), Point(x=100.0, y=179.0)], span=DocumentSpan(offset=82, length=2), confidence=0.997), DocumentWord(content=CUMBERLAND, polygon=[Point(x=146.0, y=140.0), Point(x=268.0, y=140.0), Point(x=268.0, y=160.0), Point(x=146.0, y=159.0)], span=DocumentSpan(offset=85, length=10), confidence=0.992), DocumentWord(content=COUNTY, polygon=[Point(x=275.0, y=140.0), Point(x=349.0, y=140.0), Point(x=349.0, y=160.0), Point(x=275.0, y=160.0)], span=DocumentSpan(offset=96, length=6), confidence=0.997), DocumentWord(content=GENERAL, polygon=[Point(x=353.0, y=140.0), Point(x=436.0, y=141.0), Point(x=436.0, y=160.0), Point(x=353.0, y=160.0)], span=DocumentSpan(offset=103, length=7), confidence=0.996), DocumentWord(content=FUND, polygon=[Point(x=440.0, y=141.0), Point(x=489.0, y=141.0), Point(x=488.0, y=160.0), Point(x=440.0, y=160.0)], span=DocumentSpan(offset=111, length=4), confidence=0.989), DocumentWord(content=INSERT, polygon=[Point(x=105.0, y=244.0), Point(x=161.0, y=242.0), Point(x=161.0, y=263.0), Point(x=105.0, y=264.0)], span=DocumentSpan(offset=116, length=6), confidence=0.996), DocumentWord(content=Bank, polygon=[Point(x=165.0, y=242.0), Point(x=215.0, y=242.0), Point(x=215.0, y=263.0), Point(x=166.0, y=263.0)], span=DocumentSpan(offset=123, length=4), confidence=0.991), DocumentWord(content=of, polygon=[Point(x=221.0, y=242.0), Point(x=241.0, y=241.0), Point(x=242.0, y=263.0), Point(x=221.0, y=263.0)], span=DocumentSpan(offset=128, length=2), confidence=0.997), DocumentWord(content=5th, polygon=[Point(x=245.0, y=241.0), Point(x=270.0, y=241.0), Point(x=271.0, y=263.0), Point(x=246.0, y=263.0)], span=DocumentSpan(offset=131, length=3), confidence=0.997), DocumentWord(content=Street, polygon=[Point(x=274.0, y=241.0), Point(x=333.0, y=241.0), Point(x=333.0, y=263.0), Point(x=275.0, y=263.0)], span=DocumentSpan(offset=135, length=6), confidence=0.997), DocumentWord(content=FOR, polygon=[Point(x=40.0, y=287.0), Point(x=71.0, y=287.0), Point(x=71.0, y=303.0), Point(x=40.0, y=303.0)], span=DocumentSpan(offset=142, length=3), confidence=0.998), DocumentWord(content=฿:, polygon=[Point(x=49.0, y=317.0), Point(x=69.0, y=317.0), Point(x=69.0, y=339.0), Point(x=48.0, y=339.0)], span=DocumentSpan(offset=146, length=2), confidence=0.008), DocumentWord(content=012345678910, polygon=[Point(x=76.0, y=317.0), Point(x=240.0, y=317.0), Point(x=240.0, y=339.0), Point(x=75.0, y=339.0)], span=DocumentSpan(offset=149, length=12), confidence=0.981), DocumentWord(content=012345678910, polygon=[Point(x=321.0, y=317.0), Point(x=479.0, y=317.0), Point(x=479.0, y=338.0), Point(x=321.0, y=339.0)], span=DocumentSpan(offset=162, length=12), confidence=0.924), DocumentWord(content=881724, polygon=[Point(x=747.0, y=44.0), Point(x=796.0, y=45.0), Point(x=796.0, y=59.0), Point(x=746.0, y=59.0)], span=DocumentSpan(offset=175, length=6), confidence=0.993), DocumentWord(content=06/06/2018, polygon=[Point(x=649.0, y=90.0), Point(x=752.0, y=89.0), Point(x=751.0, y=109.0), Point(x=650.0, y=110.0)], span=DocumentSpan(offset=182, length=10), confidence=0.993), DocumentWord(content=$, polygon=[Point(x=624.0, y=151.0), Point(x=642.0, y=151.0), Point(x=642.0, y=179.0), Point(x=624.0, y=179.0)], span=DocumentSpan(offset=193, length=1), confidence=0.847), DocumentWord(content=67,979.00, polygon=[Point(x=665.0, y=152.0), Point(x=752.0, y=152.0), Point(x=752.0, y=175.0), Point(x=665.0, y=175.0)], span=DocumentSpan(offset=195, length=9), confidence=0.992), DocumentWord(content=DOLLARS, polygon=[Point(x=645.0, y=212.0), Point(x=719.0, y=212.0), Point(x=718.0, y=228.0), Point(x=645.0, y=228.0)], span=DocumentSpan(offset=205, length=7), confidence=0.991), DocumentWord(content=Jane, polygon=[Point(x=556.0, y=245.0), Point(x=657.0, y=239.0), Point(x=659.0, y=284.0), Point(x=559.0, y=292.0)], span=DocumentSpan(offset=213, length=4), confidence=0.827), DocumentWord(content=Doer, polygon=[Point(x=669.0, y=238.0), Point(x=758.0, y=235.0), Point(x=760.0, y=280.0), Point(x=672.0, y=283.0)], span=DocumentSpan(offset=218, length=4), confidence=0.926), DocumentWord(content=881724, polygon=[Point(x=518.0, y=316.0), Point(x=568.0, y=317.0), Point(x=568.0, y=331.0), Point(x=518.0, y=331.0)], span=DocumentSpan(offset=223, length=6), confidence=0.993)], selection_marks=[], spans=[DocumentSpan(offset=0, length=229)])], paragraphs=[], tables=[], key_value_pairs=[], styles=[DocumentStyle(is_handwritten=True, spans=[DocumentSpan(offset=213, length=9)], confidence=0.9)], documents=[AnalyzedDocument(doc_type=CHEQUE-OCR-4:CHEQUE-OCR-4, bounding_regions=[BoundingRegion(page_number=1, polygon=[Point(x=0.0, y=0.0), Point(x=858.0, y=0.0), Point(x=858.0, y=374.0), Point(x=0.0, y=374.0)])], spans=[DocumentSpan(offset=0, length=229)], fields={'BANK': DocumentField(value_type=string, value='Bank of 5th Street', content=Bank of 5th Street, bounding_regions=[BoundingRegion(page_number=1, polygon=[Point(x=165.0, y=241.0), Point(x=333.0, y=241.0), Point(x=333.0, y=263.0), Point(x=165.0, y=263.0)])], spans=[DocumentSpan(offset=123, length=18)], confidence=0.992), 'PAY_TO': DocumentField(value_type=string, value='CUMBERLAND COUNTY GENERAL FUND', content=CUMBERLAND COUNTY GENERAL FUND, bounding_regions=[BoundingRegion(page_number=1, polygon=[Point(x=146.0, y=140.0), Point(x=489.0, y=140.0), Point(x=489.0, y=160.0), Point(x=146.0, y=160.0)])], spans=[DocumentSpan(offset=85, length=30)], confidence=0.995), 'CURRENCY': DocumentField(value_type=string, value='DOLLARS', content=DOLLARS, bounding_regions=[BoundingRegion(page_number=1, polygon=[Point(x=645.0, y=212.0), Point(x=719.0, y=212.0), Point(x=719.0, y=228.0), Point(x=645.0, y=228.0)])], spans=[DocumentSpan(offset=205, length=7)], confidence=0.994), 'AMOUNT': DocumentField(value_type=string, value='67,979.00', content=67,979.00, bounding_regions=[BoundingRegion(page_number=1, polygon=[Point(x=665.0, y=152.0), Point(x=752.0, y=152.0), Point(x=752.0, y=175.0), Point(x=665.0, y=175.0)])], spans=[DocumentSpan(offset=195, length=9)], confidence=0.994), 'CHEQUE_NO': DocumentField(value_type=string, value='881724', content=881724, bounding_regions=[BoundingRegion(page_number=1, polygon=[Point(x=518.0, y=316.0), Point(x=568.0, y=316.0), Point(x=568.0, y=331.0), Point(x=518.0, y=331.0)])], spans=[DocumentSpan(offset=223, length=6)], confidence=0.995), 'SIGNATURE': DocumentField(value_type=string, value='Jane Doer', content=Jane Doer, bounding_regions=[BoundingRegion(page_number=1, polygon=[Point(x=556.0, y=235.0), Point(x=760.0, y=235.0), Point(x=760.0, y=292.0), Point(x=556.0, y=292.0)])], spans=[DocumentSpan(offset=213, length=9)], confidence=0.99), 'ADDRESS': DocumentField(value_type=string, value='DEMO COMPANY INC 1 MAIN ST A CITY, A STATE, 12321', content=DEMO COMPANY INC 1 MAIN ST A CITY, A STATE, 12321, bounding_regions=[BoundingRegion(page_number=1, polygon=[Point(x=130.0, y=42.0), Point(x=311.0, y=42.0), Point(x=311.0, y=95.0), Point(x=130.0, y=95.0)])], spans=[DocumentSpan(offset=15, length=49)], confidence=0.99), 'DATE': DocumentField(value_type=string, value='06/06/2018', content=06/06/2018, bounding_regions=[BoundingRegion(page_number=1, polygon=[Point(x=649.0, y=89.0), Point(x=752.0, y=89.0), Point(x=752.0, y=110.0), Point(x=649.0, y=110.0)])], spans=[DocumentSpan(offset=182, length=10)], confidence=0.99)}, confidence=0.992)])\n"
     ]
    }
   ],
   "source": [
    "print(result)"
   ]
  },
  {
   "cell_type": "code",
   "execution_count": 11,
   "id": "73bde8f7",
   "metadata": {},
   "outputs": [],
   "source": [
    "full_json=[]"
   ]
  },
  {
   "cell_type": "code",
   "execution_count": 12,
   "id": "4660a37e",
   "metadata": {},
   "outputs": [],
   "source": [
    "for idx, document in enumerate(result.documents):\n",
    "    json_array=[]\n",
    "    json_object={}\n",
    "    prev_json_object={}\n",
    "    main_json={}\n",
    "    main_json['document_num'] = idx + 1\n",
    "    main_json['confidence'] = document.confidence\n",
    "    main_json['model_name'] = result.model_id\n",
    "    for name, field in document.fields.items():\n",
    "        field_value = field.value if field.value else field.content\n",
    "        if(field.value_type != 'list'):\n",
    "            main_json[name] = field_value\n",
    "#             print(\"found field of name '{}' with value '{}'\\n\".format(name, field_value))\n",
    "        else:\n",
    "            for x in field_value:\n",
    "                json_object={}\n",
    "                for z in x.value:\n",
    "                    try:\n",
    "                        json_object[z] = x.value[z].value if x.value[z].value != None else prev_json_object[z]\n",
    "                    except:\n",
    "                        json_object[z] = x.value[z].value\n",
    "                prev_json_object = json_object\n",
    "                json_array.append(json_object)\n",
    "        main_json['entries'] = json_array\n",
    "full_json.append(main_json)\n"
   ]
  },
  {
   "cell_type": "code",
   "execution_count": 13,
   "id": "f00c5d53",
   "metadata": {},
   "outputs": [
    {
     "name": "stdout",
     "output_type": "stream",
     "text": [
      "[{'document_num': 1, 'confidence': 0.992, 'model_name': 'CHEQUE-OCR-4', 'BANK': 'Bank of 5th Street', 'entries': [], 'PAY_TO': 'CUMBERLAND COUNTY GENERAL FUND', 'CURRENCY': 'DOLLARS', 'AMOUNT': '67,979.00', 'CHEQUE_NO': '881724', 'SIGNATURE': 'Jane Doer', 'ADDRESS': 'DEMO COMPANY INC 1 MAIN ST A CITY, A STATE, 12321', 'DATE': '06/06/2018'}]\n"
     ]
    }
   ],
   "source": [
    "print(full_json)"
   ]
  },
  {
   "cell_type": "code",
   "execution_count": null,
   "id": "e9f02816",
   "metadata": {},
   "outputs": [],
   "source": []
  }
 ],
 "metadata": {
  "kernelspec": {
   "display_name": "Python 3 (ipykernel)",
   "language": "python",
   "name": "python3"
  },
  "language_info": {
   "codemirror_mode": {
    "name": "ipython",
    "version": 3
   },
   "file_extension": ".py",
   "mimetype": "text/x-python",
   "name": "python",
   "nbconvert_exporter": "python",
   "pygments_lexer": "ipython3",
   "version": "3.9.13"
  }
 },
 "nbformat": 4,
 "nbformat_minor": 5
}
